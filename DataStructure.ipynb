{
  "nbformat": 4,
  "nbformat_minor": 0,
  "metadata": {
    "colab": {
      "provenance": []
    },
    "kernelspec": {
      "name": "python3",
      "display_name": "Python 3"
    },
    "language_info": {
      "name": "python"
    }
  },
  "cells": [
    {
      "cell_type": "code",
      "execution_count": null,
      "metadata": {
        "id": "FIq6FSqHDhG8"
      },
      "outputs": [],
      "source": []
    },
    {
      "cell_type": "markdown",
      "source": [
        "#Data Structure\n",
        "**Questions:**\n",
        "1. What are data structures, and why are they important?\n",
        "    - Data structures are specialized formats for organizing, storing, and accessing collections of data. They provide efficient ways to manage information based on its characteristics and intended use.\n",
        "Think of them as containers that hold your data and determine how you can interact with it. Different containers are better suited for different types of items.\n",
        "Why are they important?\n",
        "\n",
        "Choosing the right data structure significantly impacts the efficiency and performance of your program.\n",
        "Well-chosen data structures can:\n",
        "Simplify data manipulation (adding, removing, modifying elements)\n",
        "Optimize searching and sorting operations\n",
        "Conserve memory usage\n",
        "\n",
        "2. Explain the difference between mutable and immutable data types with examples.\n",
        "    - Mutability are  object/container whose state or value can be changed after they are created are called as mutable object or container, also called as item assignment.\n",
        "Examoles of Mutability: list, dict, set.\n",
        "\n",
        "Immutability: Object/container whose state or value cannot be changed after they are created are called as immutable object or container.\n",
        "Example of Immutability: int, float, str, tuple.\n",
        "\n",
        "3. What are the main differences between lists and tuples in Python?\n",
        "    - | Feature                  | `list`                       | `tuple`                         |\n",
        "| ------------------------ | ---------------------------- | ------------------------------- |\n",
        "| **Mutability**           | ✅ Mutable                    | ❌ Immutable                     |\n",
        "| **Syntax**               | Square brackets `[ ]`        | Parentheses `( )`               |\n",
        "| **Performance**          | Slower (more flexible)       | Faster (more memory-efficient)  |\n",
        "| **Methods**              | Many (e.g., `append`, `pop`) | Fewer (mostly `count`, `index`) |\n",
        "| **Use Case**             | Changing data                | Fixed/constant data             |\n",
        "| **Hashable**             | ❌ Not hashable (unhashable)  | ✅ Hashable (if elements are)    |\n",
        "| **Can be a key in dict** | ❌ No                         | ✅ Yes (if hashable)             |\n",
        "\n",
        "4. Describe how dictionaries store data?\n",
        "    - Dictionaries store data in key-value pairs, allowing for efficient data retrieval and organization, with unique keys mapping to specific values.\n",
        "\n",
        "my_dict = {}\n",
        "type(my_dict)\n",
        "\n",
        "5. Why might you use a set instead of a list in Python?\n",
        "    - - Uniqueness of Elements: Sets automatically remove duplicates, while lists do not.\n",
        "- Fast Membership Testing: Sets are optimized for fast lookup (average O(1) time).\n",
        "\n",
        "Lists require a linear search (O(n)).\n",
        "- 3. Set Operations\n",
        "\n",
        "Sets support mathematical set operations, like:\n",
        "\n",
        "Union: set1 | set2\n",
        "\n",
        "Intersection: set1 & set2\n",
        "\n",
        "Difference: set1 - set2\n",
        "\n",
        "Symmetric Difference: set1 ^ set2\n",
        "\n",
        "6. What is a string in Python, and how is it different from a list?\n",
        "    - A string is a sequence of Unicode characters.\n",
        "\n",
        "It's defined using quotes: single ' ', double \" \", or triple quotes for multiline strings (''' ''' or \"\"\" \"\"\").\n",
        "\n",
        "| Feature        | **String**                                          | **List**                                    |\n",
        "| -------------- | --------------------------------------------------- | ------------------------------------------- |\n",
        "| **Type**       | `str`                                               | `list`                                      |\n",
        "| **Contents**   | Text (characters)                                   | Any data types (mixed allowed)              |\n",
        "| **Mutability** | ❌ Immutable (can’t be changed)                      | ✅ Mutable (can be changed)                  |\n",
        "| **Syntax**     | Quoted characters: `\"hello\"`                        | Square brackets: `[1, 2, 3]`                |\n",
        "| **Methods**    | Many string-specific (e.g., `.lower()`, `.split()`) | Many list-specific (`.append()`, `.sort()`) |\n",
        "| **Use Case**   | Handling and processing text                        | Managing collections of data                |\n",
        "\n",
        "7. How do tuples ensure data integrity in Python?\n",
        "    - Tuples ensure data integrity through immutibility, once they are created its contents/data type can not be changed. This means no adding or removing elements. This immutability protects the data from accidental or unauthorized modification, especially when passing data around functions or between parts of a program\n",
        "\n",
        "8. What is a hash table, and how does it relate to dictionaries in Python?\n",
        "    - A hash table is a data structure that implements an associative array, also known as a dictionary or map. It stores data in key-value pairs, where each key is mapped to a specific memory location (or index in an array) using a hash function. This hash function takes the key as input and produces an integer value (the hash code), which is then used to determine the storage location of the corresponding value. The primary advantage of hash tables is their ability to provide very fast average-case time complexity for operations like insertion, deletion, and lookup.\n",
        "\n",
        "How Hash Tables Relate to Dictionaries in Python:\n",
        "Python's built-in dictionaries (dict) are implemented using hash tables. When you create a dictionary and add key-value pairs, Python internally uses a hash table to store and retrieve this data efficiently\n",
        "\n",
        "9. Can lists contain different data types in Python?\n",
        "    - list is an orderd collection of elements that can be of any data types in python.\n",
        "\n",
        "10. Explain why strings are immutable in Python?\n",
        "    - Strings in Python are immutable — meaning once a string is created, it cannot be changed. If you try to modify it, Python will create a new string object instead.\n",
        "\n",
        "Why Are Strings Immutable in Python?\n",
        "1.Data Integrity and Safety: Immutable strings prevent accidental changes\n",
        "\n",
        "2.Hashability (Use in Sets and Dict Keys): Only immutable objects can be hashed and used as dictionary keys or in sets\n",
        "\n",
        "3.Performance Optimization (String Interning): Python often reuses string objects to save memory — a process called string interning.\n",
        "\n",
        "11. What advantages do dictionaries offer over lists for certain tasks?\n",
        "    - Dictionaries in Python offer several advantages over lists — especially when you need to associate data with unique keys and access it quickly.\n",
        "\n",
        "Dictionaries are ideal when:\n",
        "\n",
        "You need fast lookups by a unique key\n",
        "\n",
        "You want to associate data with meaningful identifiers\n",
        "\n",
        "You value readability and maintainability\n",
        "\n",
        "12. Describe a scenario where using a tuple would be preferable over a list?\n",
        "    - Using a tuple is preferable over a list when you want to store a fixed collection of items that should not change throughout the lifetime of your program.\n",
        "\n",
        "| Use Case                                  | Why Tuple?                                                    |\n",
        "| ----------------------------------------- | ------------------------------------------------------------- |\n",
        "| Returning multiple values from a function | Tuples make it clear the return values are grouped and fixed. |\n",
        "| Using as keys in a dictionary             | Tuples are hashable; lists are not.                           |\n",
        "| Representing fixed data structures        | E.g., RGB color values, dates, 2D points, etc.                |\n",
        "| Protecting data from modification         | Tuples prevent accidental or unauthorized changes.            |\n",
        "\n",
        "13. How do sets handle duplicate values in Python?\n",
        "    - A set is an unordered collection of unique, hashable elements.In Python, sets automatically eliminate duplicate values. This is one of their core features.\n",
        "\n",
        "How Sets Handle Duplicates:\n",
        "\n",
        "When you add elements to a set, Python checks the hash value of each element.\n",
        "\n",
        "If an element already exists, it’s not added again.\n",
        "\n",
        "Internally, sets use a hash table (like dictionaries) to keep track of values.\n",
        "\n",
        "14. How does the “in” keyword work differently for lists and dictionaries?\n",
        "    - in keyword behaves differently for lists and dictionaries in Python — and understanding this distinction is key to writing efficient and correct code.\n",
        "\n",
        "| Type   | What `in` checks for                         |\n",
        "| ------ | -------------------------------------------- |\n",
        "| `list` | Checks if a **value** exists in the list     |\n",
        "| `dict` | Checks if a **key** exists in the dictionary |\n",
        "\n",
        "15. Can you modify the elements of a tuple? Explain why or why not?\n",
        "    - No, you cannot modify the elements of a tuple in Python — and this is by design.\n",
        "\n",
        "Why You Can't Modify a Tuple:\n",
        "\n",
        "Tuples are immutable, Once a tuple is created, its size and contents cannot be changed.\n",
        "\n",
        "That means:\n",
        "\n",
        "You cannot change individual elements\n",
        "\n",
        "You cannot add or remove elements\n",
        "\n",
        "You cannot reorder elements\n",
        "\n",
        "Why Tuples Are Immutable?\n",
        "\n",
        "Data Integrity, Hashability, Predictable Behavior.\n",
        "\n",
        "Exception: Tuples Can Contain Mutable Elements\n",
        "\n",
        "While the tuple itself can't be changed, it can contain mutable objects, which can be changed.\n",
        "\n",
        "16. What is a nested dictionary, and give an example of its use case?\n",
        "    - A nested dictionary in Python is a dictionary where one or more values are themselves dictionaries. This allows you to represent complex, hierarchical data structures using key-value pairs.\n",
        "\n",
        "17. Describe the time complexity of accessing elements in a dictionary?\n",
        "    - Accessing elements in a dictionary in Python has an average-case time complexity of:\n",
        "\n",
        "🔹 Average Case:\n",
        "\n",
        "Dictionary lookups (e.g., my_dict[key]) are constant time operations on average.\n",
        "\n",
        "Python dictionaries use hash tables internally, so the key is hashed, and the value is retrieved directly using the hash.\n",
        "\n",
        "18. In what situations are lists preferred over dictionaries?\n",
        "    - While dictionaries are powerful for key-based lookups, there are several situations where lists are preferred.\n",
        "\n",
        "When Lists Are Preferred Over Dictionaries:\n",
        "1.Order Matters\n",
        "\n",
        "Lists maintain the order of elements by default.\n",
        "\n",
        "Useful when the sequence or position of items is important\n",
        "\n",
        "2.Indexed Access\n",
        "\n",
        "Lists are ideal when you need to access elements by position (index).\n",
        "\n",
        "Efficient random access: O(1) time for my_list[3].\n",
        "\n",
        "19. Why are dictionaries considered unordered, and how does that affect data retrieval?\n",
        "    - Dictionaries are considered \"unordered\" because they do not guarantee a specific, predictable sequence for their elements, and instead, they are optimized for fast retrieval of values based on their associated keys, not their position. This fundamental characteristic means that data retrieval relies entirely on key-based access.\n",
        "\n",
        "20. Explain the difference between a list and a dictionary in terms of data retrieval.\n",
        "    - 1. How You Access Data\n",
        "\n",
        "List:\n",
        "\n",
        "Access by index (position).\n",
        "\n",
        "Syntax: my_list[0]\n",
        "\n",
        "Order matters, and elements are stored in a defined sequence\n",
        "\n",
        "Dictionary:\n",
        "\n",
        "Access by key (name).\n",
        "\n",
        "Syntax: my_dict['key']\n",
        "\n",
        "The key is used to retrieve the corresponding value, order is secondary\n",
        "\n",
        "2.Time Complexity of Retrieval:\n",
        "\n",
        "List: Fast if you know the index, slow if you have to search for a value.\n",
        "\n",
        "Dictionary: Fast access by key, but you can't search by value directly."
      ],
      "metadata": {
        "id": "5vFtu69FGUzk"
      }
    },
    {
      "cell_type": "code",
      "source": [],
      "metadata": {
        "id": "D4zOli-CD1rJ"
      },
      "execution_count": null,
      "outputs": []
    },
    {
      "cell_type": "code",
      "source": [
        "#Question-1\n",
        "#Write a code to create a string with your name and print it\n",
        "a = \"Sajid\"\n",
        "print(a)"
      ],
      "metadata": {
        "id": "O1WGRk1MD122",
        "colab": {
          "base_uri": "https://localhost:8080/"
        },
        "outputId": "23a64759-d6cd-4232-9273-9cc2e281299d"
      },
      "execution_count": null,
      "outputs": [
        {
          "output_type": "stream",
          "name": "stdout",
          "text": [
            "Sajid\n"
          ]
        }
      ]
    },
    {
      "cell_type": "code",
      "source": [
        "#Question-2\n",
        "#Write a code to find the length of the string \"Hello World\"\n",
        "b = \"Hello World\"\n",
        "print(len(b))"
      ],
      "metadata": {
        "id": "HvEIKPD-Fz1k",
        "colab": {
          "base_uri": "https://localhost:8080/"
        },
        "outputId": "63955e93-d8c3-429c-8b54-645ab6a253b2"
      },
      "execution_count": null,
      "outputs": [
        {
          "output_type": "stream",
          "name": "stdout",
          "text": [
            "11\n"
          ]
        }
      ]
    },
    {
      "cell_type": "code",
      "source": [
        "#Question-3\n",
        "#Write a code to slice the first 3 characters from the string \"Python Programming\"\n",
        "a = \"Python Programming\"\n",
        "slice = a[:3]\n",
        "print(slice)"
      ],
      "metadata": {
        "colab": {
          "base_uri": "https://localhost:8080/"
        },
        "id": "2rs8byDg9_d_",
        "outputId": "64f75465-f8da-428a-c6f6-bf6f968d9fee"
      },
      "execution_count": null,
      "outputs": [
        {
          "output_type": "stream",
          "name": "stdout",
          "text": [
            "Pyt\n"
          ]
        }
      ]
    },
    {
      "cell_type": "code",
      "source": [
        "#Question-4\n",
        "#Write a code to convert the string \"hello\" to uppercase\n",
        "a = \"hello\"\n",
        "a\n",
        "a.upper()"
      ],
      "metadata": {
        "colab": {
          "base_uri": "https://localhost:8080/",
          "height": 36
        },
        "id": "1TAAJ-Ri-jt7",
        "outputId": "788c6dec-c56c-4918-cedd-7759601ba99c"
      },
      "execution_count": null,
      "outputs": [
        {
          "output_type": "execute_result",
          "data": {
            "text/plain": [
              "'HELLO'"
            ],
            "application/vnd.google.colaboratory.intrinsic+json": {
              "type": "string"
            }
          },
          "metadata": {},
          "execution_count": 12
        }
      ]
    },
    {
      "cell_type": "code",
      "source": [
        "#Question-5\n",
        "#Write a code to replace the word \"apple\" with \"orange\" in the string \"I like apple\"\n",
        "a = \"I like apple\"\n",
        "a"
      ],
      "metadata": {
        "colab": {
          "base_uri": "https://localhost:8080/",
          "height": 36
        },
        "id": "S-L4ZEFO-4mE",
        "outputId": "6d1d17a2-e182-42e1-842c-9a79a6db6978"
      },
      "execution_count": null,
      "outputs": [
        {
          "output_type": "execute_result",
          "data": {
            "text/plain": [
              "'I like apple'"
            ],
            "application/vnd.google.colaboratory.intrinsic+json": {
              "type": "string"
            }
          },
          "metadata": {},
          "execution_count": 14
        }
      ]
    },
    {
      "cell_type": "code",
      "source": [
        "a.replace(\"apple\", \"orange\")"
      ],
      "metadata": {
        "colab": {
          "base_uri": "https://localhost:8080/",
          "height": 36
        },
        "id": "tSWjebrj_Q3W",
        "outputId": "aaea098d-fb3b-4d5f-937a-52b4a998e2fb"
      },
      "execution_count": null,
      "outputs": [
        {
          "output_type": "execute_result",
          "data": {
            "text/plain": [
              "'I like orange'"
            ],
            "application/vnd.google.colaboratory.intrinsic+json": {
              "type": "string"
            }
          },
          "metadata": {},
          "execution_count": 19
        }
      ]
    },
    {
      "cell_type": "code",
      "source": [
        "#Question-6\n",
        "#Write a code to create a list with numbers 1 to 5 and print it\n",
        "list = [1,2,3,4,5]\n",
        "print(list)"
      ],
      "metadata": {
        "colab": {
          "base_uri": "https://localhost:8080/"
        },
        "id": "tdmNyuBK_oyW",
        "outputId": "b76a013e-d745-48e2-9c41-5521ca110b7e"
      },
      "execution_count": null,
      "outputs": [
        {
          "output_type": "stream",
          "name": "stdout",
          "text": [
            "[1, 2, 3, 4, 5]\n"
          ]
        }
      ]
    },
    {
      "cell_type": "code",
      "source": [
        "#Question-7\n",
        "#Write a code to append the number 10 to the list [1, 2, 3, 4]\n",
        "a = [1, 2, 3, 4]\n",
        "a.append(10)\n",
        "print(a)"
      ],
      "metadata": {
        "colab": {
          "base_uri": "https://localhost:8080/"
        },
        "id": "Zr9is7-yBhCk",
        "outputId": "37bf23af-f3f4-475b-b766-e7457ae1856c"
      },
      "execution_count": null,
      "outputs": [
        {
          "output_type": "stream",
          "name": "stdout",
          "text": [
            "[1, 2, 3, 4, 10]\n"
          ]
        }
      ]
    },
    {
      "cell_type": "code",
      "source": [
        "#Question-8\n",
        "#Write a code to remove the number 3 from the list [1, 2, 3, 4, 5]\n",
        "lis = [1, 2, 3, 4, 5]\n",
        "lis.remove(3)\n",
        "print(lis)"
      ],
      "metadata": {
        "colab": {
          "base_uri": "https://localhost:8080/"
        },
        "id": "Yg1dnUJpB01V",
        "outputId": "9836612e-d67b-470e-d896-5279fc3dfb92"
      },
      "execution_count": null,
      "outputs": [
        {
          "output_type": "stream",
          "name": "stdout",
          "text": [
            "[1, 2, 4, 5]\n"
          ]
        }
      ]
    },
    {
      "cell_type": "code",
      "source": [
        "#Question-9\n",
        "#Write a code to access the second element in the list ['a', 'b', 'c', 'd']\n",
        "lis = ['a', 'b', 'c', 'd']\n",
        "lis[1]"
      ],
      "metadata": {
        "colab": {
          "base_uri": "https://localhost:8080/",
          "height": 36
        },
        "id": "owlKK_ZqCVX4",
        "outputId": "56f29709-15bf-4c5a-fb61-74d813a46e78"
      },
      "execution_count": null,
      "outputs": [
        {
          "output_type": "execute_result",
          "data": {
            "text/plain": [
              "'b'"
            ],
            "application/vnd.google.colaboratory.intrinsic+json": {
              "type": "string"
            }
          },
          "metadata": {},
          "execution_count": 23
        }
      ]
    },
    {
      "cell_type": "code",
      "source": [
        "#Question-10\n",
        "# Write a code to reverse the list [10, 20, 30, 40, 50]\n",
        "lis = [10, 20, 30, 40, 50]\n",
        "lis.reverse()\n",
        "print(lis)"
      ],
      "metadata": {
        "colab": {
          "base_uri": "https://localhost:8080/"
        },
        "id": "Dx0YdSqECgU9",
        "outputId": "117a7ce4-50f7-46e9-87f5-67d7038315b4"
      },
      "execution_count": 1,
      "outputs": [
        {
          "output_type": "stream",
          "name": "stdout",
          "text": [
            "[50, 40, 30, 20, 10]\n"
          ]
        }
      ]
    },
    {
      "cell_type": "code",
      "source": [
        "#Question-11\n",
        "# Write a code to create a tuple with the elements 100, 200, 300 and print it.\n",
        "tuple = (100, 200, 300)\n",
        "print(tuple)"
      ],
      "metadata": {
        "colab": {
          "base_uri": "https://localhost:8080/"
        },
        "id": "esQTHjapCnr4",
        "outputId": "291f39a6-373a-4499-96a7-d741a236d718"
      },
      "execution_count": null,
      "outputs": [
        {
          "output_type": "stream",
          "name": "stdout",
          "text": [
            "(100, 200, 300)\n"
          ]
        }
      ]
    },
    {
      "cell_type": "code",
      "source": [
        "#Question-12\n",
        "#Write a code to access the second-to-last element of the tuple ('red', 'green', 'blue', 'yellow').\n",
        "tuple = ('red', 'green', 'blue', 'yellow')\n",
        "tuple[1:4]"
      ],
      "metadata": {
        "colab": {
          "base_uri": "https://localhost:8080/"
        },
        "id": "G4bzCNBaC3se",
        "outputId": "1b94e73f-f4ce-4fb3-f071-9985802fbe6a"
      },
      "execution_count": null,
      "outputs": [
        {
          "output_type": "execute_result",
          "data": {
            "text/plain": [
              "('green', 'blue', 'yellow')"
            ]
          },
          "metadata": {},
          "execution_count": 31
        }
      ]
    },
    {
      "cell_type": "code",
      "source": [
        "#Question-13\n",
        "#Write a code to find the minimum number in the tuple (10, 20, 5, 15)\n",
        "tuple = (10, 20, 5, 15)\n",
        "min(tuple)"
      ],
      "metadata": {
        "colab": {
          "base_uri": "https://localhost:8080/"
        },
        "id": "TKd2BMv4DQZQ",
        "outputId": "7030b6af-550e-418c-88d6-66fd1109f3b8"
      },
      "execution_count": null,
      "outputs": [
        {
          "output_type": "execute_result",
          "data": {
            "text/plain": [
              "5"
            ]
          },
          "metadata": {},
          "execution_count": 32
        }
      ]
    },
    {
      "cell_type": "code",
      "source": [
        "#Question-14\n",
        "#Write a code to find the index of the element \"cat\" in the tuple ('dog', 'cat', 'rabbit').\n",
        "tuple = ('dog', 'cat', 'rabbit')\n",
        "tuple.index('cat')"
      ],
      "metadata": {
        "colab": {
          "base_uri": "https://localhost:8080/"
        },
        "id": "1HuhYsNSDs5H",
        "outputId": "daabe8b2-e7d6-4eee-cfae-915340a78cbf"
      },
      "execution_count": null,
      "outputs": [
        {
          "output_type": "execute_result",
          "data": {
            "text/plain": [
              "1"
            ]
          },
          "metadata": {},
          "execution_count": 33
        }
      ]
    },
    {
      "cell_type": "code",
      "source": [
        "#Question-15\n",
        "#Write a code to create a tuple containing three different fruits and check if \"kiwi\" is in it.\n",
        "tuple = (\"apple\", \"banana\", \"orange\")\n",
        "\"kiwi\" in tuple"
      ],
      "metadata": {
        "colab": {
          "base_uri": "https://localhost:8080/"
        },
        "id": "AojfzUmAD0PB",
        "outputId": "61f8163a-434f-41e7-fde3-20acff03395f"
      },
      "execution_count": null,
      "outputs": [
        {
          "output_type": "execute_result",
          "data": {
            "text/plain": [
              "False"
            ]
          },
          "metadata": {},
          "execution_count": 34
        }
      ]
    },
    {
      "cell_type": "code",
      "source": [
        "#Question-16\n",
        "#Write a code to create a set with the elements 'a', 'b', 'c' and print it.\n",
        "set = {'a', 'b', 'c'}\n",
        "print(set)"
      ],
      "metadata": {
        "colab": {
          "base_uri": "https://localhost:8080/"
        },
        "id": "YHIsEOPJD88v",
        "outputId": "4d9c6715-a0a0-4718-e1dd-5d9c606d9d6b"
      },
      "execution_count": null,
      "outputs": [
        {
          "output_type": "stream",
          "name": "stdout",
          "text": [
            "{'c', 'a', 'b'}\n"
          ]
        }
      ]
    },
    {
      "cell_type": "code",
      "source": [
        "#Question-17\n",
        "#Write a code to clear all elements from the set {1, 2, 3, 4, 5}.\n",
        "set = {1, 2, 3, 4, 5}\n",
        "set"
      ],
      "metadata": {
        "colab": {
          "base_uri": "https://localhost:8080/"
        },
        "id": "d94ecFJtEL1p",
        "outputId": "185b3ba2-e73f-4f13-ae12-d41d7db0ae0b"
      },
      "execution_count": null,
      "outputs": [
        {
          "output_type": "execute_result",
          "data": {
            "text/plain": [
              "{1, 2, 3, 4, 5}"
            ]
          },
          "metadata": {},
          "execution_count": 39
        }
      ]
    },
    {
      "cell_type": "code",
      "source": [
        "set.clear()"
      ],
      "metadata": {
        "id": "-AmjPCs9ESCp"
      },
      "execution_count": null,
      "outputs": []
    },
    {
      "cell_type": "code",
      "source": [
        "set"
      ],
      "metadata": {
        "colab": {
          "base_uri": "https://localhost:8080/"
        },
        "id": "VaTa45c7FDko",
        "outputId": "f43c1463-f441-4aa2-adf2-909f0340cfcf"
      },
      "execution_count": null,
      "outputs": [
        {
          "output_type": "execute_result",
          "data": {
            "text/plain": [
              "set()"
            ]
          },
          "metadata": {},
          "execution_count": 41
        }
      ]
    },
    {
      "cell_type": "code",
      "source": [
        "#Question-18\n",
        "# Write a code to remove the element 4 from the set {1, 2, 3, 4}.\n",
        "set = {1, 2, 3, 4}\n",
        "set.remove(4)\n",
        "print(set)"
      ],
      "metadata": {
        "colab": {
          "base_uri": "https://localhost:8080/"
        },
        "id": "iVL-vt0LFEgg",
        "outputId": "faec9766-b508-47a0-8b85-da898458be97"
      },
      "execution_count": null,
      "outputs": [
        {
          "output_type": "stream",
          "name": "stdout",
          "text": [
            "{1, 2, 3}\n"
          ]
        }
      ]
    },
    {
      "cell_type": "code",
      "source": [
        "#Question-19\n",
        "#Write a code to find the union of two sets {1, 2, 3} and {3, 4, 5}.\n",
        "a = {1, 2, 3}\n",
        "b = {3, 4, 5, 6}\n"
      ],
      "metadata": {
        "id": "UM5rPgOJFOl5"
      },
      "execution_count": null,
      "outputs": []
    },
    {
      "cell_type": "code",
      "source": [
        "a"
      ],
      "metadata": {
        "colab": {
          "base_uri": "https://localhost:8080/"
        },
        "id": "plYvalP0IkYn",
        "outputId": "13203a32-a5c2-4b77-b984-28a4df0cfe6c"
      },
      "execution_count": null,
      "outputs": [
        {
          "output_type": "execute_result",
          "data": {
            "text/plain": [
              "{1, 2, 3}"
            ]
          },
          "metadata": {},
          "execution_count": 44
        }
      ]
    },
    {
      "cell_type": "code",
      "source": [
        "b"
      ],
      "metadata": {
        "colab": {
          "base_uri": "https://localhost:8080/"
        },
        "id": "TH6vo-g3Ilpp",
        "outputId": "f0ba5bf5-6988-4c57-8da8-5d81d22cac06"
      },
      "execution_count": null,
      "outputs": [
        {
          "output_type": "execute_result",
          "data": {
            "text/plain": [
              "{3, 4, 5, 6}"
            ]
          },
          "metadata": {},
          "execution_count": 45
        }
      ]
    },
    {
      "cell_type": "code",
      "source": [
        "a|b"
      ],
      "metadata": {
        "colab": {
          "base_uri": "https://localhost:8080/"
        },
        "id": "NQ_ZH8ViImdn",
        "outputId": "c126c617-2af9-46b0-df5a-c1f93688536c"
      },
      "execution_count": null,
      "outputs": [
        {
          "output_type": "execute_result",
          "data": {
            "text/plain": [
              "{1, 2, 3, 4, 5, 6}"
            ]
          },
          "metadata": {},
          "execution_count": 46
        }
      ]
    },
    {
      "cell_type": "code",
      "source": [
        "#Question-20\n",
        "#Write a code to find the intersection of two sets {1, 2, 3} and {2, 3, 4}\n",
        "a"
      ],
      "metadata": {
        "colab": {
          "base_uri": "https://localhost:8080/"
        },
        "id": "Uax3_GZ7Iq6N",
        "outputId": "1ea3f41b-bcc9-47ab-de26-887f2cb9a958"
      },
      "execution_count": null,
      "outputs": [
        {
          "output_type": "execute_result",
          "data": {
            "text/plain": [
              "{1, 2, 3}"
            ]
          },
          "metadata": {},
          "execution_count": 47
        }
      ]
    },
    {
      "cell_type": "code",
      "source": [
        "b"
      ],
      "metadata": {
        "colab": {
          "base_uri": "https://localhost:8080/"
        },
        "id": "dwfq0yMAI_M8",
        "outputId": "ce719b36-542b-44c6-89df-4796260df981"
      },
      "execution_count": null,
      "outputs": [
        {
          "output_type": "execute_result",
          "data": {
            "text/plain": [
              "{3, 4, 5, 6}"
            ]
          },
          "metadata": {},
          "execution_count": 48
        }
      ]
    },
    {
      "cell_type": "code",
      "source": [
        "a&b"
      ],
      "metadata": {
        "colab": {
          "base_uri": "https://localhost:8080/"
        },
        "id": "vc71i93lJAMe",
        "outputId": "73ebcb34-e759-45b6-d8e9-26ab87ee6588"
      },
      "execution_count": null,
      "outputs": [
        {
          "output_type": "execute_result",
          "data": {
            "text/plain": [
              "{3}"
            ]
          },
          "metadata": {},
          "execution_count": 49
        }
      ]
    },
    {
      "cell_type": "code",
      "source": [
        "#Question-21\n",
        "# Write a code to create a dictionary with the keys \"name\", \"age\", and \"city\", and print it.\n",
        "dict = {\"name\": \"Sajid\", \"age\": 24, \"city\": \"Kolkata\"}\n",
        "print(dict)"
      ],
      "metadata": {
        "colab": {
          "base_uri": "https://localhost:8080/"
        },
        "id": "yVC2cLroJCUp",
        "outputId": "7ed5e7a3-1eb0-4487-8cb1-23eaadcd459b"
      },
      "execution_count": null,
      "outputs": [
        {
          "output_type": "stream",
          "name": "stdout",
          "text": [
            "{'name': 'Sajid', 'age': 24, 'city': 'Kolkata'}\n"
          ]
        }
      ]
    },
    {
      "cell_type": "code",
      "source": [
        "#Question-22\n",
        "#Write a code to add a new key-value pair \"country\": \"USA\" to the dictionary {'name': 'John', 'age': 25}.\n",
        "dict = {\"name\": \"John\", \"age\":\"25\"}\n",
        "dict"
      ],
      "metadata": {
        "colab": {
          "base_uri": "https://localhost:8080/"
        },
        "id": "IUgETHpGJQnC",
        "outputId": "9f218052-c009-43b8-b327-b64798c20df0"
      },
      "execution_count": null,
      "outputs": [
        {
          "output_type": "execute_result",
          "data": {
            "text/plain": [
              "{'name': 'John', 'age': '25'}"
            ]
          },
          "metadata": {},
          "execution_count": 52
        }
      ]
    },
    {
      "cell_type": "code",
      "source": [
        "dict[\"country\"] = \"USA\"\n",
        "dict"
      ],
      "metadata": {
        "colab": {
          "base_uri": "https://localhost:8080/"
        },
        "id": "iNSQwFg2KzSv",
        "outputId": "5cde8fb1-0414-4032-aca5-fef6f9c64771"
      },
      "execution_count": null,
      "outputs": [
        {
          "output_type": "execute_result",
          "data": {
            "text/plain": [
              "{'name': 'John', 'age': '25', 'country': 'USA'}"
            ]
          },
          "metadata": {},
          "execution_count": 54
        }
      ]
    },
    {
      "cell_type": "code",
      "source": [
        "#Question-23\n",
        "#Write a code to access the value associated with the key \"name\" in the dictionary {'name': 'Alice', 'age': 30}.\n",
        "dict = {'name': 'Alice', 'age': 30}\n",
        "dict[\"name\"]"
      ],
      "metadata": {
        "colab": {
          "base_uri": "https://localhost:8080/",
          "height": 36
        },
        "id": "YOPZSZDpLCxC",
        "outputId": "c3315951-3faf-4550-c993-943a4cbf871e"
      },
      "execution_count": null,
      "outputs": [
        {
          "output_type": "execute_result",
          "data": {
            "text/plain": [
              "'Alice'"
            ],
            "application/vnd.google.colaboratory.intrinsic+json": {
              "type": "string"
            }
          },
          "metadata": {},
          "execution_count": 55
        }
      ]
    },
    {
      "cell_type": "code",
      "source": [
        "#Question-24\n",
        "#Write a code to remove the key \"age\" from the dictionary {'name': 'Bob', 'age': 22, 'city': 'New York'}.\n",
        "dict = {'name': 'Bob', 'age': 22, 'city': 'New York'}\n",
        "dict"
      ],
      "metadata": {
        "colab": {
          "base_uri": "https://localhost:8080/"
        },
        "id": "cboH6TrjLTDh",
        "outputId": "269ed07b-d28a-48f5-a019-5c1315036d5f"
      },
      "execution_count": null,
      "outputs": [
        {
          "output_type": "execute_result",
          "data": {
            "text/plain": [
              "{'name': 'Bob', 'age': 22, 'city': 'New York'}"
            ]
          },
          "metadata": {},
          "execution_count": 56
        }
      ]
    },
    {
      "cell_type": "code",
      "source": [
        "dict.pop(\"age\")\n",
        "dict"
      ],
      "metadata": {
        "colab": {
          "base_uri": "https://localhost:8080/"
        },
        "id": "hQqNky0yLcTK",
        "outputId": "c483e295-ccaa-434e-fb5a-1c6a4aebbdae"
      },
      "execution_count": null,
      "outputs": [
        {
          "output_type": "execute_result",
          "data": {
            "text/plain": [
              "{'name': 'Bob', 'city': 'New York'}"
            ]
          },
          "metadata": {},
          "execution_count": 58
        }
      ]
    },
    {
      "cell_type": "code",
      "source": [
        "#Question-25\n",
        "# Write a code to check if the key \"city\" exists in the dictionary {'name': 'Alice', 'city': 'Paris'}\n",
        "dict = {'name': 'Alice', 'city': 'Paris'}\n",
        "\"city\" in dict"
      ],
      "metadata": {
        "colab": {
          "base_uri": "https://localhost:8080/"
        },
        "id": "VJVgsz9eLisi",
        "outputId": "7ef98f90-bf9d-4d08-9d57-b500125332f0"
      },
      "execution_count": null,
      "outputs": [
        {
          "output_type": "execute_result",
          "data": {
            "text/plain": [
              "True"
            ]
          },
          "metadata": {},
          "execution_count": 59
        }
      ]
    },
    {
      "cell_type": "code",
      "source": [
        "#Question-26\n",
        "#Write a code to create a list, a tuple, and a dictionary, and print them all.\n",
        "list = [[1, 2, 3],(4, 5, 6),{'a': 1, 'b': 2, 'c': 3}]\n",
        "print(list)"
      ],
      "metadata": {
        "colab": {
          "base_uri": "https://localhost:8080/"
        },
        "id": "uUL9FTHuMlU8",
        "outputId": "3e1107bb-9ff7-42a2-b443-2ec4d09a7d26"
      },
      "execution_count": null,
      "outputs": [
        {
          "output_type": "stream",
          "name": "stdout",
          "text": [
            "[[1, 2, 3], (4, 5, 6), {'a': 1, 'b': 2, 'c': 3}]\n"
          ]
        }
      ]
    },
    {
      "cell_type": "code",
      "source": [
        "#Question-27\n",
        "#Write a code to create a list of 5 random numbers between 1 and 100, sort it in ascending order, and print the result.(replaced)\n",
        "list = [88,22,98,4,55]\n",
        "list.sort()\n",
        "print(list)"
      ],
      "metadata": {
        "id": "eDP2M92JNYDG",
        "colab": {
          "base_uri": "https://localhost:8080/"
        },
        "outputId": "fee046e1-5420-4462-9c65-a86f60b74a13"
      },
      "execution_count": 4,
      "outputs": [
        {
          "output_type": "stream",
          "name": "stdout",
          "text": [
            "[4, 22, 55, 88, 98]\n"
          ]
        }
      ]
    },
    {
      "cell_type": "code",
      "source": [
        "#Question-28\n",
        "#Write a code to create a list with strings and print the element at the third index.\n",
        "list = [\"apple\", \"banana\", \"orange\", \"kiwi\", \"mango\"]\n",
        "list[3]"
      ],
      "metadata": {
        "colab": {
          "base_uri": "https://localhost:8080/",
          "height": 36
        },
        "id": "CgNk3uToOXTG",
        "outputId": "ac619c90-34fb-4dce-dec8-ca65d1a6e7e6"
      },
      "execution_count": null,
      "outputs": [
        {
          "output_type": "execute_result",
          "data": {
            "text/plain": [
              "'kiwi'"
            ],
            "application/vnd.google.colaboratory.intrinsic+json": {
              "type": "string"
            }
          },
          "metadata": {},
          "execution_count": 66
        }
      ]
    },
    {
      "cell_type": "code",
      "source": [
        "#Question-29\n",
        "#Write a code to combine two dictionaries into one and print the result.\n",
        "dict1 = {'a': 1, 'b': 2}\n",
        "dict2 = {'c': 3, 'd': 4}\n",
        "dict3 = dict1 | dict2\n",
        "print(dict3)"
      ],
      "metadata": {
        "colab": {
          "base_uri": "https://localhost:8080/"
        },
        "id": "ETyzcQFZOb6b",
        "outputId": "0b37838a-c789-415f-d909-5f57a7cd663a"
      },
      "execution_count": null,
      "outputs": [
        {
          "output_type": "stream",
          "name": "stdout",
          "text": [
            "{'a': 1, 'b': 2, 'c': 3, 'd': 4}\n"
          ]
        }
      ]
    },
    {
      "cell_type": "code",
      "source": [
        "#Question-30\n",
        "#Write a code to convert a list of strings into a set.\n",
        "string_list = [\"apple\", \"banana\", \"orange\", \"kiwi\", \"mango\"]\n",
        "string_set = set(string_list)\n",
        "print(string_set)"
      ],
      "metadata": {
        "colab": {
          "base_uri": "https://localhost:8080/"
        },
        "id": "L6vl_-1HO9x5",
        "outputId": "9b77e4c0-3627-4d12-fece-cb5e229f129a"
      },
      "execution_count": 2,
      "outputs": [
        {
          "output_type": "stream",
          "name": "stdout",
          "text": [
            "{'orange', 'kiwi', 'mango', 'banana', 'apple'}\n"
          ]
        }
      ]
    },
    {
      "cell_type": "code",
      "source": [],
      "metadata": {
        "id": "Py3Q0LscPHBe"
      },
      "execution_count": 3,
      "outputs": []
    },
    {
      "cell_type": "code",
      "source": [],
      "metadata": {
        "id": "1Q2p0w99QAil"
      },
      "execution_count": null,
      "outputs": []
    }
  ]
}